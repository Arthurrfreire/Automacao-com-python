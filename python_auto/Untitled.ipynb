{
 "cells": [
  {
   "cell_type": "code",
   "execution_count": 1,
   "id": "2c51cf2a",
   "metadata": {},
   "outputs": [
    {
     "data": {
      "text/plain": [
       "'OK'"
      ]
     },
     "execution_count": 1,
     "metadata": {},
     "output_type": "execute_result"
    }
   ],
   "source": [
    "import pyautogui\n",
    "import time\n",
    "\n",
    "pyautogui.alert(\"O código vai começar. Não use nada do seu computador enquanto o código está rodando\")\n",
    "pyautogui.PAUSE = 0.5\n",
    "# abrir o google drive no meu computador\n",
    "pyautogui.press('winleft')\n",
    "pyautogui.write('chrome')\n",
    "pyautogui.press('enter')\n",
    "time.sleep(1)\n",
    "pyautogui.write(\"https://drive.google.com/drive/my-drive\")\n",
    "pyautogui.press('enter')\n",
    "\n",
    "# entrar na minha área de trabalho\n",
    "pyautogui.hotkey('winleft', 'd')\n",
    "# cliquei no arquivo que eu quero fazer backup e arrastei ele\n",
    "pyautogui.moveTo(2499, 9)\n",
    "pyautogui.mouseDown()\n",
    "pyautogui.moveTo(895, 677)\n",
    "\n",
    "# enquanto eu to arrastando, eu vou mudar para o google drive\n",
    "pyautogui.hotkey('alt', 'tab')\n",
    "time.sleep(1)\n",
    "# larguei o arquivo no google drive\n",
    "pyautogui.mouseUp()\n",
    "\n",
    "# esperar 5 segundos\n",
    "time.sleep(5)\n",
    "\n",
    "pyautogui.alert(\"O código acabou de rodar. Pode usar o seu computador de novo\")"
   ]
  },
  {
   "cell_type": "code",
   "execution_count": 6,
   "id": "af95dec2",
   "metadata": {},
   "outputs": [
    {
     "data": {
      "text/plain": [
       "Point(x=895, y=677)"
      ]
     },
     "execution_count": 6,
     "metadata": {},
     "output_type": "execute_result"
    }
   ],
   "source": [
    "pyautogui.position()"
   ]
  }
 ],
 "metadata": {
  "kernelspec": {
   "display_name": "Python 3 (ipykernel)",
   "language": "python",
   "name": "python3"
  },
  "language_info": {
   "codemirror_mode": {
    "name": "ipython",
    "version": 3
   },
   "file_extension": ".py",
   "mimetype": "text/x-python",
   "name": "python",
   "nbconvert_exporter": "python",
   "pygments_lexer": "ipython3",
   "version": "3.11.3"
  }
 },
 "nbformat": 4,
 "nbformat_minor": 5
}
