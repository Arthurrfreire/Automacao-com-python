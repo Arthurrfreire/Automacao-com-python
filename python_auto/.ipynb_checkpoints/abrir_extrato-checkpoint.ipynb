{
 "cells": [
  {
   "cell_type": "code",
   "execution_count": 58,
   "id": "22ccb748",
   "metadata": {},
   "outputs": [
    {
     "data": {
      "text/plain": [
       "'OK'"
      ]
     },
     "execution_count": 58,
     "metadata": {},
     "output_type": "execute_result"
    }
   ],
   "source": [
    "import pyautogui\n",
    "import time\n",
    "\n",
    "pyautogui.alert(\"O código vai começar. Não use nada do seu computador enquanto o código está rodando\")\n",
    "pyautogui.PAUSE = 0.5\n",
    "# abrir o explorador de arquivos\n",
    "pyautogui.keyDown('win')\n",
    "pyautogui.press('e')\n",
    "pyautogui.keyUp('win')\n",
    "pyautogui.sleep(1)\n",
    "pyautogui.click(82, 281, clicks=1, interval=0.1, button='left')\n",
    "pyautogui.sleep(1)\n",
    "pyautogui.click(400, 185, clicks=2, interval=0.1, button='left')\n",
    "pyautogui.sleep(1)\n",
    "# com o excel aberto\n",
    "pyautogui.click(911, 231, clicks=2, interval=0.1, button='left')\n",
    "pyautogui.hotkey('ctrl', 'c')\n",
    "pyautogui.sleep(1)\n",
    "# copiar conteúdo para outro excel\n",
    "pyautogui.press('win')\n",
    "pyautogui.write('excel')\n",
    "pyautogui.sleep(1)\n",
    "pyautogui.press('enter')\n",
    "pyautogui.sleep(4)\n",
    "pyautogui.click(56, 247, clicks=1, interval=0.1, button='left')\n",
    "pyautogui.sleep(1)\n",
    "pyautogui.hotkey('ctrl', 'v')\n",
    "\n",
    "pyautogui.alert(\"O código acabou de rodar. Pode usar o seu computador de novo\")"
   ]
  },
  {
   "cell_type": "code",
   "execution_count": 36,
   "id": "2b160e6c",
   "metadata": {},
   "outputs": [
    {
     "data": {
      "text/plain": [
       "Point(x=117, y=253)"
      ]
     },
     "execution_count": 36,
     "metadata": {},
     "output_type": "execute_result"
    }
   ],
   "source": [
    "pyautogui.position()"
   ]
  },
  {
   "cell_type": "code",
   "execution_count": 1,
   "id": "2eb2e865",
   "metadata": {},
   "outputs": [
    {
     "data": {
      "text/plain": [
       "'OK'"
      ]
     },
     "execution_count": 1,
     "metadata": {},
     "output_type": "execute_result"
    }
   ],
   "source": [
    "import pyautogui\n",
    "import time\n",
    "\n",
    "pyautogui.alert(\"O código vai começar. Não use nada do seu computador enquanto o código está rodando\")\n",
    "\n",
    "\n",
    "# abrir o excel\n",
    "pyautogui.press('win')\n",
    "pyautogui.write('excel')\n",
    "pyautogui.press('enter')\n",
    "time.sleep(2)\n",
    "pyautogui.press('enter')\n",
    "time.sleep(2)\n",
    "pyautogui.write('DATA')\n",
    "pyautogui.press('tab')\n",
    "pyautogui.write('VALOR')\n",
    "time.sleep(2)\n",
    "\n",
    "#abrir o arquivo na pasta donwloads através do explorador de arquivos\n",
    "pyautogui.keyDown('win')\n",
    "pyautogui.press('e')\n",
    "pyautogui.keyUp('win')\n",
    "pyautogui.click(82, 281, clicks=1, interval=0.1, button='left')\n",
    "time.sleep(1)\n",
    "pyautogui.click(400, 185, clicks=2, interval=0.1, button='left')\n",
    "pyautogui.press('enter')\n",
    "time.sleep(4)\n",
    "\n",
    "# com o excel aberto\n",
    "pyautogui.moveTo(877, 252)\n",
    "pyautogui.mouseDown(button='left')\n",
    "pyautogui.moveTo(934, 964)\n",
    "pyautogui.mouseUp(button='left')\n",
    "pyautogui.hotkey('ctrl', 'c')\n",
    "\n",
    "# abrir outro excel\n",
    "pyautogui.hotkey('alt', 'tab')\n",
    "time.sleep(2)\n",
    "pyautogui.click(117, 253, clicks=1, interval=0.1, button='left')\n",
    "pyautogui.hotkey('ctrl', 'v')\n",
    "\n",
    "pyautogui.alert(\"O código acabou de rodar. Pode usar o seu computador de novo\")"
   ]
  },
  {
   "cell_type": "code",
   "execution_count": null,
   "id": "46cb4dae",
   "metadata": {},
   "outputs": [],
   "source": []
  }
 ],
 "metadata": {
  "kernelspec": {
   "display_name": "Python 3 (ipykernel)",
   "language": "python",
   "name": "python3"
  },
  "language_info": {
   "codemirror_mode": {
    "name": "ipython",
    "version": 3
   },
   "file_extension": ".py",
   "mimetype": "text/x-python",
   "name": "python",
   "nbconvert_exporter": "python",
   "pygments_lexer": "ipython3",
   "version": "3.11.5"
  }
 },
 "nbformat": 4,
 "nbformat_minor": 5
}
